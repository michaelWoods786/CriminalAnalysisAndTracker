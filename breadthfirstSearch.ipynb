{
  "nbformat": 4,
  "nbformat_minor": 0,
  "metadata": {
    "colab": {
      "provenance": [],
      "authorship_tag": "ABX9TyMAmLInEPQH3hg2ypwvfIM4",
      "include_colab_link": true
    },
    "kernelspec": {
      "name": "python3",
      "display_name": "Python 3"
    },
    "language_info": {
      "name": "python"
    }
  },
  "cells": [
    {
      "cell_type": "markdown",
      "metadata": {
        "id": "view-in-github",
        "colab_type": "text"
      },
      "source": [
        "<a href=\"https://colab.research.google.com/github/michaelWoods786/CriminalAnalysisAndTracker/blob/main/breadthfirstSearch.ipynb\" target=\"_parent\"><img src=\"https://colab.research.google.com/assets/colab-badge.svg\" alt=\"Open In Colab\"/></a>"
      ]
    },
    {
      "cell_type": "code",
      "execution_count": null,
      "metadata": {
        "id": "cXe3zv8w-sv4"
      },
      "outputs": [],
      "source": [
        "\"\"\"\n",
        "# Definition for a Node.\n",
        "class Node:\n",
        "    def __init__(self, val: int = 0, left: 'Node' = None, right: 'Node' = None, next: 'Node' = None):\n",
        "        self.val = val\n",
        "        self.left = left\n",
        "        self.right = right\n",
        "        self.next = next\n",
        "\"\"\"\n",
        "\n",
        "class Solution:\n",
        "    def connect(self, root: 'Optional[Node]') -> 'Optional[Node]':\n",
        "        if not root:\n",
        "            return None\n",
        "\n",
        "        queue = [(root, 0)]  # Use deque for efficient pops\n",
        "        hashy = {}\n",
        "\n",
        "        while queue:\n",
        "            index, node = queue.pop(0)\n",
        "\n",
        "            if node:\n",
        "                #here, if the index is not in hashy, then we\n",
        "                if index not in hashy:\n",
        "                    hashy[index] = []\n",
        "\n",
        "                hashy[index].append(node)\n",
        "\n",
        "                queue.append((index + 1, node.left))\n",
        "                queue.append((index + 1, node.right))\n",
        "\n",
        "        for level in hashy:\n",
        "            nodes = hashy[level]\n",
        "            for i in range(len(nodes) - 1):\n",
        "                nodes[i].next = nodes[i + 1]\n",
        "            nodes[-1].next = None  # Last node in the level points to None\n",
        "\n",
        "        return root"
      ]
    }
  ]
}