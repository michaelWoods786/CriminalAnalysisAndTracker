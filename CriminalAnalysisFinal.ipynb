{
 "cells": [
  {
   "cell_type": "markdown",
   "metadata": {},
   "source": [
    "This project relates house prices to number of sex offenders in the area,taking into account the density of the area. The area is retrieved via sql databases which contain the USPS and GEOID for the appropiate county. Right now this program only factors in the state of california, due to my limited amount of requests from the crimeometer api. When I recieve the proper amount of api requests.\n",
    "\n",
    "I chose 1500 houses as I felt it was more represeantive of the region, and any additional houses in the data set had a neglible impact on the final results.\n",
    "\n"
   ]
  },
  {
   "cell_type": "code",
   "execution_count": null,
   "metadata": {},
   "outputs": [],
   "source": [
    "import sys\n",
    "\n",
    "print(sys.executable)\n",
    "\n",
    "import pandas as pd\n",
    "from geopy.geocoders import Nominatim\n",
    "import asyncio\n",
    "import threading\n",
    "import pickle\n",
    "import sqlite3\n",
    "import time\n",
    "from SPARQLWrapper import SPARQLWrapper, JSON\n",
    "from playwright.async_api import Page, expect, async_playwright, Playwright, TimeoutError\n",
    "import random\n",
    "import numpy as np\n",
    "from datetime import datetime\n",
    "#from homeharvest import scrape_property\n",
    "#from sqlalchemy import create_engine\n",
    "import requests\n",
    "import matplotlib.pyplot as plt\n",
    "from homeharvest import scrape_property\n",
    "from datetime import datetime"
   ]
  },
  {
   "cell_type": "code",
   "execution_count": 2,
   "metadata": {},
   "outputs": [],
   "source": [
    "import seaborn as sb"
   ]
  },
  {
   "cell_type": "code",
   "execution_count": 3,
   "metadata": {},
   "outputs": [],
   "source": [
    "from sklearn.model_selection import train_test_split\n",
    "from sklearn.metrics import mean_squared_error, r2_score\n",
    "from sklearn.preprocessing import StandardScaler,MinMaxScaler\n",
    "from scipy.optimize import curve_fit"
   ]
  },
  {
   "cell_type": "code",
   "execution_count": 4,
   "metadata": {},
   "outputs": [],
   "source": [
    "from sqlalchemy import create_engine, types"
   ]
  },
  {
   "cell_type": "code",
   "execution_count": null,
   "metadata": {},
   "outputs": [],
   "source": [
    "states = [ \n",
    "\"NM\", \"NY\", \"NC\", \"ND\", \"OH\", \"OK\", \"OR\", \"PA\", \"RI\", \"SC\", \n",
    "\"SD\", \"TN\", \"TX\", \"UT\", \"VT\", \"VA\", \"WA\", \"WV\", \"WI\", \"WY\"]\n"
   ]
  },
  {
   "cell_type": "code",
   "execution_count": 13,
   "metadata": {},
   "outputs": [],
   "source": [
    "conn = sqlite3.connect('HouseData.db')\n",
    "cursor = conn.cursor()\n"
   ]
  },
  {
   "cell_type": "code",
   "execution_count": null,
   "metadata": {},
   "outputs": [],
   "source": [
    "cursor.execute(\"SELECT name FROM sqlite_master WHERE type ='table' AND name NOT LIKE 'sqlite_%';\")\n",
    "names = cursor.fetchall()    \n",
    "print(names)"
   ]
  },
  {
   "cell_type": "code",
   "execution_count": 10,
   "metadata": {},
   "outputs": [],
   "source": [
    "def propertiesTosSql(properties,state):\n",
    "    properties.to_sql(state, conn, if_exists='replace', index=False)\n",
    "    cursor.execute(\"SELECT name FROM sqlite_master WHERE type ='table' AND name NOT LIKE 'sqlite_%';\")\n",
    "    databaseNames = cursor.fetchall()\n",
    "    print(databaseNames)\n",
    "    print(cursor.fetchall())"
   ]
  },
  {
   "cell_type": "code",
   "execution_count": null,
   "metadata": {},
   "outputs": [],
   "source": [
    "\n",
    "    current_timestamp = datetime.now().strftime(\"%Y%m%d_%H%M%S\")\n",
    "    filename = f\"HomeHarvest_{'CA'}.csv\"\n",
    "    properties = scrape_property(\n",
    "    location= \"CA\",\n",
    "    listing_type=\"for_sale\",  # or (for_sale, for_rent, pending)\n",
    "  # sold in last 30 days - listed in last 30 days if (for_sale, for_rent)\n",
    "\n",
    "  # date_from=\"2023-05-01\", # alternative to past_days\n",
    "  # date_to=\"2023-05-28\",\n",
    "  # foreclosure=True\n",
    "  # mls_only=True,  # only fetch MLS listings\n",
    "    )\n",
    "    print(len(properties))\n",
    "    \n",
    "    if 'agent_phones' in properties.columns:\n",
    "      properties.drop('agent_phones', axis = 1, inplace=True)\n",
    "    if (len(properties) > 1000):\n",
    "      propertiesTosSql(properties.sample(n=1500),\"CA\")\n",
    "    else:\n",
    "      propertiesTosSql(properties,\"CA\")\n"
   ]
  },
  {
   "cell_type": "code",
   "execution_count": null,
   "metadata": {},
   "outputs": [],
   "source": []
  },
  {
   "cell_type": "code",
   "execution_count": null,
   "metadata": {},
   "outputs": [],
   "source": [
    "conn = sqlite3.connect('HouseData.db')\n",
    "cursor = conn.cursor()\n",
    "cursor.execute(\"SELECT * FROM CA\")\n",
    "prices = cursor.fetchall()\n",
    "print(prices[0])\n",
    "print(\"this is the length of prices: \" + str(len(prices)))\n",
    "conn.commit()\n"
   ]
  },
  {
   "cell_type": "code",
   "execution_count": null,
   "metadata": {},
   "outputs": [],
   "source": [
    "conn = sqlite3.connect('HouseData.db')\n",
    "cursor = conn.cursor()\n",
    "cursor.execute(\"SELECT * FROM CA\")\n",
    "prices = cursor.fetchall()\n",
    "print(\"this is the length of prices: \" + str(len(prices)))"
   ]
  },
  {
   "cell_type": "code",
   "execution_count": null,
   "metadata": {},
   "outputs": [],
   "source": [
    "cursor.execute(\"select state from NY \")\n",
    "rows = cursor.fetchall()\n",
    "print(len(rows))"
   ]
  },
  {
   "cell_type": "code",
   "execution_count": null,
   "metadata": {},
   "outputs": [],
   "source": [
    "\n",
    "\n",
    "\n",
    "\n",
    "\n",
    "\n",
    "query  = \"\"\"\n",
    "\n",
    "CREATE TABLE StateHouseData2 AS\n",
    "SELECT * FROM AL\n",
    "UNION\n",
    "SELECT * FROM AK\n",
    "UNION\n",
    "SELECT * FROM AZ\n",
    "UNION\n",
    "SELECT * FROM AR\n",
    "UNION\n",
    "SELECT * FROM CA\n",
    "UNION\n",
    "SELECT * FROM CO\n",
    "UNION\n",
    "SELECT * FROM CT\n",
    "UNION\n",
    "SELECT * FROM DE\n",
    "UNION\n",
    "SELECT * FROM FL\n",
    "UNION\n",
    "SELECT * FROM GA\n",
    "UNION\n",
    "SELECT * FROM HI\n",
    "UNION\n",
    "SELECT * FROM ID\n",
    "UNION\n",
    "SELECT * FROM IL\n",
    "UNION\n",
    "SELECT * FROM \"IN\"\n",
    "UNION\n",
    "SELECT * FROM IA\n",
    "UNION\n",
    "SELECT * FROM KS\n",
    "UNION\n",
    "SELECT * FROM KY\n",
    "UNION\n",
    "SELECT * FROM LA\n",
    "UNION\n",
    "SELECT * FROM ME\n",
    "UNION\n",
    "SELECT * FROM MD\n",
    "UNION\n",
    "SELECT * FROM MA\n",
    "UNION\n",
    "SELECT * FROM MN\n",
    "UNION\n",
    "SELECT * FROM MS\n",
    "UNION\n",
    "SELECT * FROM MO\n",
    "UNION\n",
    "SELECT * FROM MT\n",
    "UNION\n",
    "SELECT * FROM NE\n",
    "UNION\n",
    "SELECT * FROM NV\n",
    "UNION\n",
    "SELECT * FROM NH\n",
    "UNION\n",
    "SELECT * FROM NM\n",
    "UNION\n",
    "SELECT * FROM NY\n",
    "UNION\n",
    "SELECT * FROM NC\n",
    "UNION\n",
    "SELECT * FROM ND\n",
    "UNION\n",
    "SELECT * FROM OH\n",
    "UNION\n",
    "SELECT * FROM OK\n",
    "UNION\n",
    "SELECT * FROM \"OR\"\n",
    "UNION\n",
    "SELECT * FROM PA\n",
    "UNION\n",
    "SELECT * FROM RI\n",
    "UNION\n",
    "SELECT * FROM SC\n",
    "UNION\n",
    "SELECT * FROM SD\n",
    "UNION\n",
    "SELECT * FROM TN\n",
    "UNION\n",
    "SELECT * FROM TX\n",
    "UNION\n",
    "SELECT * FROM UT\n",
    "UNION\n",
    "SELECT * FROM VT\n",
    "UNION\n",
    "SELECT * FROM VA\n",
    "UNION\n",
    "SELECT * FROM WA\n",
    "UNION\n",
    "SELECT * FROM WV\n",
    "UNION\n",
    "SELECT * FROM WI\n",
    "UNION\n",
    "SELECT * FROM WY\n",
    "\"\"\"\n",
    "\n",
    "cursor.execute(query)"
   ]
  },
  {
   "cell_type": "code",
   "execution_count": 53,
   "metadata": {},
   "outputs": [],
   "source": [
    "def getCensusSquareMiles():\n",
    "    print(\"IN READ CENSUS\")\n",
    "    conn = sqlite3.connect(\"HouseData.db\")\n",
    "    cursor = conn.cursor()\n",
    "\n",
    "    df = pd.read_csv('2020Gaz.txt', sep='\\t')\n",
    "    df[\"GEOID_5_digits\"] = df[\"GEOID\"].apply(lambda x : f\"{x:05d}\")\n",
    "    df.to_sql(\"censusData\", conn, if_exists='replace', index=False)\n"
   ]
  },
  {
   "cell_type": "code",
   "execution_count": null,
   "metadata": {},
   "outputs": [],
   "source": [
    "getCensusSquareMiles()\n",
    "\n",
    "conn = sqlite3.connect(\"HouseData.db\")\n",
    "cursor = conn.cursor()\n",
    "cursor.execute(\"SELECT * FROM censusData\")\n",
    "results = cursor.fetchall()[0]\n",
    "print(results)"
   ]
  },
  {
   "cell_type": "code",
   "execution_count": null,
   "metadata": {},
   "outputs": [],
   "source": [
    "getCensusSquareMiles()\n",
    "\n",
    "\n",
    "\n"
   ]
  },
  {
   "cell_type": "code",
   "execution_count": null,
   "metadata": {},
   "outputs": [],
   "source": []
  },
  {
   "cell_type": "code",
   "execution_count": null,
   "metadata": {},
   "outputs": [],
   "source": [
    "\n",
    "cursor.execute(\"PRAGMA table_info('areaCensus')\")\n",
    "columns = cursor.fetchall()\n",
    "\n",
    "# Find and print the type of the specific column\n",
    "for column in columns:\n",
    "    if column[1] == 'GEOID':\n",
    "        print(f\"Column Type for '{column[1]}': {column[2]}\")\n",
    "\n",
    "print(cursor.fetchall())"
   ]
  },
  {
   "cell_type": "code",
   "execution_count": null,
   "metadata": {},
   "outputs": [],
   "source": [
    "cursor.execute(\"SELECT county Density FROM StateHouseData Where Density < 50 And state = ? \", (\"CA\",))\n",
    "results = cursor.fetchall()\n",
    "print(results)"
   ]
  },
  {
   "cell_type": "code",
   "execution_count": 27,
   "metadata": {},
   "outputs": [],
   "source": [
    "def state_to_fips(state_input):\n",
    "    # Mapping of state names and abbreviations to FIPS codes\n",
    "    states = {\n",
    "        \"Alabama\": \"01\", \"AL\": \"01\",\n",
    "        \"Alaska\": \"02\", \"AK\": \"02\",\n",
    "        \"Arizona\": \"04\", \"AZ\": \"04\",\n",
    "        \"Arkansas\": \"05\", \"AR\": \"05\",\n",
    "        \"California\": \"06\", \"CA\": \"06\",\n",
    "        \"Colorado\": \"08\", \"CO\": \"08\",\n",
    "        \"Connecticut\": \"09\", \"CT\": \"09\",\n",
    "        \"Delaware\": \"10\", \"DE\": \"10\",\n",
    "        \"Florida\": \"12\", \"FL\": \"12\",\n",
    "        \"Georgia\": \"13\", \"GA\": \"13\",\n",
    "        \"Hawaii\": \"15\", \"HI\": \"15\",\n",
    "        \"Idaho\": \"16\", \"ID\": \"16\",\n",
    "        \"Illinois\": \"17\", \"IL\": \"17\",\n",
    "        \"Indiana\": \"18\", \"IN\": \"18\",\n",
    "        \"Iowa\": \"19\", \"IA\": \"19\",\n",
    "        \"Kansas\": \"20\", \"KS\": \"20\",\n",
    "        \"Kentucky\": \"21\", \"KY\": \"21\",\n",
    "        \"Louisiana\": \"22\", \"LA\": \"22\",\n",
    "        \"Maine\": \"23\", \"ME\": \"23\",\n",
    "        \"Maryland\": \"24\", \"MD\": \"24\",\n",
    "        \"Massachusetts\": \"25\", \"MA\": \"25\",\n",
    "        \"Michigan\": \"26\", \"MI\": \"26\",\n",
    "        \"Minnesota\": \"27\", \"MN\": \"27\",\n",
    "        \"Mississippi\": \"28\", \"MS\": \"28\",\n",
    "        \"Missouri\": \"29\", \"MO\": \"29\",\n",
    "        \"Montana\": \"30\", \"MT\": \"30\",\n",
    "        \"Nebraska\": \"31\", \"NE\": \"31\",\n",
    "        \"Nevada\": \"32\", \"NV\": \"32\",\n",
    "        \"New Hampshire\": \"33\", \"NH\": \"33\",\n",
    "        \"New Jersey\": \"34\", \"NJ\": \"34\",\n",
    "        \"New Mexico\": \"35\", \"NM\": \"35\",\n",
    "        \"New York\": \"36\", \"NY\": \"36\",\n",
    "        \"North Carolina\": \"37\", \"NC\": \"37\",\n",
    "        \"North Dakota\": \"38\", \"ND\": \"38\",\n",
    "        \"Ohio\": \"39\", \"OH\": \"39\",\n",
    "        \"Oklahoma\": \"40\", \"OK\": \"40\",\n",
    "        \"Oregon\": \"41\", \"OR\": \"41\",\n",
    "        \"Pennsylvania\": \"42\", \"PA\": \"42\",\n",
    "        \"Rhode Island\": \"44\", \"RI\": \"44\",\n",
    "        \"South Carolina\": \"45\", \"SC\": \"45\",\n",
    "        \"South Dakota\": \"46\", \"SD\": \"46\",\n",
    "        \"Tennessee\": \"47\", \"TN\": \"47\",\n",
    "        \"Texas\": \"48\", \"TX\": \"48\",\n",
    "        \"Utah\": \"49\", \"UT\": \"49\",\n",
    "        \"Vermont\": \"50\", \"VT\": \"50\",\n",
    "        \"Virginia\": \"51\", \"VA\": \"51\",\n",
    "        \"Washington\": \"53\", \"WA\": \"53\",\n",
    "        \"West Virginia\": \"54\", \"WV\": \"54\",\n",
    "        \"Wisconsin\": \"55\", \"WI\": \"55\",\n",
    "        \"Wyoming\": \"56\", \"WY\": \"56\"\n",
    "    }\n",
    "\n",
    "    # Convert input to uppercase for flexible matching\n",
    "    state_input_upper = state_input.upper()\n",
    "\n",
    "    # Find and return the FIPS code\n",
    "    fips_code = states.get(state_input_upper, \"State not found\")\n",
    "    return fips_code\n",
    "\n"
   ]
  },
  {
   "cell_type": "code",
   "execution_count": null,
   "metadata": {},
   "outputs": [],
   "source": [
    "cursor.execute ( \"SELECT GEOID, ALAND_SQMI, AWATER_SQMI FROM censusData WHERE USPS = ? AND Name = ?\", \"AL\", (countyQuery)))\n"
   ]
  },
  {
   "cell_type": "code",
   "execution_count": 25,
   "metadata": {},
   "outputs": [],
   "source": [
    "def getCountyCode(state, checkCounty):\n",
    "    stateCode = state_to_fips(state)\n",
    "    print(\"this is the stateCode: \" + stateCode)\n",
    "    countyQuery = checkCounty + \" County\"\n",
    "    print(\"this isthe countyQuery:\" + countyQuery)\n",
    "   # print(\"this is the county we are workign with:\" + checkCounty)\n",
    "    cursor.execute ( \"SELECT GEOID_5_digits, ALAND_SQMI, AWATER_SQMI FROM censusData WHERE USPS = ? AND Name = ?\", (state, (countyQuery)))\n",
    "    \n",
    "    try:\n",
    "        (geoid,aland_sqmi,awater_sqmi)= cursor.fetchall()[0]\n",
    "        print(\"this is the geoid: \"+ str(geoid))\n",
    "        return (str(geoid), (aland_sqmi + awater_sqmi))\n",
    "\n",
    "    except IndexError:\n",
    "            print(\"cound not find the data\")\n",
    "            return None"
   ]
  },
  {
   "cell_type": "code",
   "execution_count": 107,
   "metadata": {},
   "outputs": [],
   "source": [
    "conn.commit()"
   ]
  },
  {
   "cell_type": "code",
   "execution_count": null,
   "metadata": {},
   "outputs": [],
   "source": [
    "us_census_key = \"\"\n",
    "\n",
    "\n",
    "cursor.execute(\"SELECT DISTINCT State, county FROM CA \")\n",
    "\n",
    "\n",
    "stateData = cursor.fetchall()\n",
    "print(\"this is the state data: \" + str(stateData))\n",
    "#cursor = conn.cursor()\n",
    "#cursor.execute(\"SELECT DISTINCT State, county FROM StateHouseData\")\n",
    "#rows = cursor.fetchall()\n",
    "\n",
    "# Construct the base URL for the API request\n",
    "#url = \"https://api.census.gov/data/2021/pep/population\"\n",
    "#url = \"https://api.census.gov/data/2021/pep/population?get=DENSITY_2021,POP_2021,NAME&for=state:06&key={us_census_key}\"\n",
    "\n",
    "for (state, county) in stateData:\n",
    "    url = \"https://api.census.gov/data/2020/acs/acs5\"\n",
    "    \n",
    "    if (state != None and county != None):\n",
    "        print(\"this is the state:\" + state)\n",
    "        print(\"this is the county: \" + county)\n",
    "        \n",
    "        \n",
    "\n",
    "\n",
    "\n",
    "        tupRet = getCountyCode(state, county)\n",
    "\n",
    "        \n",
    "        if (tupRet):\n",
    "            (countyCode, area) = tupRet\n",
    "            \n",
    "\n",
    "            countyCode = countyCode[2:5]\n",
    "            print(countyCode)\n",
    "            fipState = state_to_fips(state)\n",
    "            print(\"this is the stateCode: \" + str(fipState))\n",
    "            \n",
    "            \n",
    "            params = {\n",
    "            'get': 'B01003_001E',  # Total population\n",
    "            'for': f'county:{countyCode}',\n",
    "            'in': f'state:{fipState}',\n",
    "            'key': ''\n",
    "             }\n",
    "            url = \"https://api.census.gov/data/2020/acs/acs5\"\n",
    "            \n",
    "            response = requests.get(url, params=params)\n",
    "\n",
    "            if response.status_code == 200:\n",
    "                data = response.json()\n",
    "                print(\"this is the data:\" + str(data))\n",
    "                population = data[1][0]\n",
    "                print(\"this is the county:\" + county)\n",
    "                density = float(float(population)/area)\n",
    "                print(\"DENSITY: \" + str(density))\n",
    "                cursor.execute(\"UPDATE CA SET Density = ? WHERE county = ? AND state = ?\", ( (float(population)/area), county, state))    \n",
    "\n",
    "            else:\n",
    "                print(\"Failed to retrieve data:\", response.status_code)\n",
    "                print(\"Response text:\", response.text)\n",
    "\n",
    "\n",
    "# Set the parameters for the request\n",
    "#params = {\n",
    "#    'get': 'DENSITY_2021,POP_2021,Orange County,California',  # The data fields you want to retrieve\n",
    "#    'for': 'region:*',  # Fetch data for all regions\n",
    " #   'key': us_census_key\n"
   ]
  },
  {
   "cell_type": "code",
   "execution_count": 142,
   "metadata": {},
   "outputs": [
    {
     "name": "stdout",
     "output_type": "stream",
     "text": [
      "606\n"
     ]
    }
   ],
   "source": [
    "cursor.execute(\"SELECT DENSITY FROM CA WHERE DENSITY > 1000\")\n",
    "densities = cursor.fetchall()\n",
    "print(len(densities))"
   ]
  },
  {
   "cell_type": "code",
   "execution_count": null,
   "metadata": {},
   "outputs": [],
   "source": [
    "cursor.execute(\"DELETE FROM CA WHERE county = ?\", (\"Creek County\",))"
   ]
  },
  {
   "cell_type": "code",
   "execution_count": null,
   "metadata": {},
   "outputs": [],
   "source": [
    "cursor.execute(\"DELETE FROM CA WHERE density = NULL\")"
   ]
  },
  {
   "cell_type": "code",
   "execution_count": null,
   "metadata": {},
   "outputs": [],
   "source": [
    "cursor.execute(\"SELECT county FROM CA WHERE county = ? \", (\"Creek County\",))\n",
    "res = cursor.fetchall()\n",
    "print(res[0:100])"
   ]
  },
  {
   "cell_type": "code",
   "execution_count": 16,
   "metadata": {},
   "outputs": [],
   "source": [
    "conn.commit()\n",
    "conn.close()"
   ]
  },
  {
   "cell_type": "code",
   "execution_count": null,
   "metadata": {},
   "outputs": [],
   "source": [
    "def deleteDuplicate():\n",
    "    query = \"\"\"DELETE FROM stateHouseData\n",
    "    WHERE rowid NOT IN (\n",
    "    SELECT rowid\n",
    "    FROM (\n",
    "    SELECT rowid, RANK() OVER (PARTITION BY column1, column2 ORDER BY date_column DESC) as rank\n",
    "    FROM stateHouseData\n",
    "  ) WHERE rank = 1\n",
    "    );b\"\"\"\n",
    "    cursor.execute(query)"
   ]
  },
  {
   "cell_type": "code",
   "execution_count": null,
   "metadata": {},
   "outputs": [],
   "source": [
    "deleteDuplicate()"
   ]
  },
  {
   "cell_type": "code",
   "execution_count": null,
   "metadata": {},
   "outputs": [],
   "source": [
    "cursor.execute(\"PRAGMA table_info(StateHouseData)\")\n",
    "columns = cursor.fetchall()\n",
    "print(columns)\n",
    "rows = (cursor.fetchall())\n",
    "print(len(rows))\n",
    "# Print the name of each column\n"
   ]
  },
  {
   "cell_type": "code",
   "execution_count": null,
   "metadata": {},
   "outputs": [],
   "source": [
    "def getCriminals():\n",
    "     cursor.execute(\"SELECT * FROM CA \", state)"
   ]
  },
  {
   "cell_type": "code",
   "execution_count": null,
   "metadata": {},
   "outputs": [],
   "source": [
    "cursor.execute(\"ALTER TABLE stateHouseData ADD DENSITY FLOAT\")"
   ]
  },
  {
   "cell_type": "code",
   "execution_count": null,
   "metadata": {},
   "outputs": [],
   "source": [
    "cursor.execute(\"ALTER TABLE StateHouseData ADD  numCriminals INT\")"
   ]
  },
  {
   "cell_type": "code",
   "execution_count": 68,
   "metadata": {},
   "outputs": [],
   "source": [
    "def deleteDup():\n",
    "    query = \"\"\" DELETE FROM CAFINALTABLE\n",
    "    WHERE rowid NOT IN (\n",
    "    SELECT MIN(rowid)\n",
    "    FROM CAFINALTABLE\n",
    "    GROUP BY property_url\n",
    "    );\"\"\"\n",
    "    cursor.execute(query)"
   ]
  },
  {
   "cell_type": "code",
   "execution_count": 69,
   "metadata": {},
   "outputs": [],
   "source": [
    "deleteDup()"
   ]
  },
  {
   "cell_type": "code",
   "execution_count": null,
   "metadata": {},
   "outputs": [],
   "source": [
    "conn = sqlite3.connect(\"HouseData.db\")\n",
    "cursor = conn.cursor()\n",
    "cursor.execute(\"SELECT DENSITY FROM StateHouseData\")\n",
    "densities = cursor.fetchall()\n",
    "print(\"densities below:\")\n",
    "print(densities)"
   ]
  },
  {
   "cell_type": "code",
   "execution_count": null,
   "metadata": {},
   "outputs": [],
   "source": [
    "def foop():\n",
    "    print(\"foop\")"
   ]
  },
  {
   "cell_type": "code",
   "execution_count": null,
   "metadata": {},
   "outputs": [],
   "source": [
    "cursor.execute(\"SELECT * from StateHouseData where state = ?\" , (\"CA\",))\n",
    "densities = cursor.fetchall()[0]\n",
    "print(densities)"
   ]
  },
  {
   "cell_type": "code",
   "execution_count": null,
   "metadata": {},
   "outputs": [],
   "source": [
    "\n",
    "cursor.execute(\"UPDATE StateHouseData SET numCriminals=Null\")"
   ]
  },
  {
   "cell_type": "code",
   "execution_count": null,
   "metadata": {},
   "outputs": [],
   "source": [
    "cursor.execute(\"PRAGMA table_info(StateHouseData)\")\n",
    "names = cursor.fetchall()\n",
    "print(\"THESE ARE THE NAMES:\" + str(names))\n",
    "cursor.execute(\"SELECT list_price from StateHouseData WHERE list_price < 500000 and state = ?\", (\"CA\",))\n",
    "results = cursor.fetchall()\n",
    "cursor.execute(\"SELECT list_price from StateHouseData WHERE list_price > 1000000 and state = ?\", (\"CA\",))\n",
    "results = cursor.fetchall()\n",
    "print(results)\n",
    "\n",
    "print(len(results))"
   ]
  },
  {
   "cell_type": "code",
   "execution_count": null,
   "metadata": {},
   "outputs": [],
   "source": [
    "\n",
    "cursor.execute(\"SELECT list_price from CA Where state = ?\", (\"CA\",))\n",
    "prices = cursor.fetchall()\n",
    "prices = [price[0] for price in prices]\n",
    "\n",
    "print(prices)\n",
    "#sb.histplot(prices, kde=True)\n",
    "log_prices = np.log(prices)\n",
    "sb.histplot(log_prices, kde=True)"
   ]
  },
  {
   "cell_type": "code",
   "execution_count": null,
   "metadata": {},
   "outputs": [],
   "source": [
    "cursor.execute(\"ALTER TABLE CA ADD numCriminal Int\" )\n"
   ]
  },
  {
   "cell_type": "code",
   "execution_count": 50,
   "metadata": {},
   "outputs": [],
   "source": [
    "conn.commit()\n",
    "conn.close()"
   ]
  },
  {
   "cell_type": "code",
   "execution_count": null,
   "metadata": {},
   "outputs": [],
   "source": [
    "conn = sqlite3.connect(\"Housedata.db\")\n",
    "cursor = conn.cursor()\n",
    "cursor.execute(\"SELECT Density FROM CA\")\n",
    "results = cursor.fetchall()\n",
    "print(results[500])"
   ]
  },
  {
   "cell_type": "code",
   "execution_count": null,
   "metadata": {},
   "outputs": [],
   "source": [
    "cursor.execute(\"SELECT property_url, Density, latitude, longitude FROM CA WHERE DENSITY >1000\" )       \n",
    "retrieved  = cursor.fetchall()\n",
    "print(len(retrieved))"
   ]
  },
  {
   "cell_type": "code",
   "execution_count": null,
   "metadata": {},
   "outputs": [],
   "source": [
    "def checkCriminalsPrev():\n",
    "    data = {\n",
    "        'house_prices': np.random.uniform(100000, 1000000, 1000)\n",
    "        'num_criminals': np.random.randint(0,100,1000)\n",
    "    }\n",
    "    df = pd.DataFrame(data)\n",
    "    "
   ]
  },
  {
   "cell_type": "code",
   "execution_count": null,
   "metadata": {},
   "outputs": [],
   "source": []
  },
  {
   "cell_type": "code",
   "execution_count": 58,
   "metadata": {},
   "outputs": [],
   "source": [
    "def checkCriminals():\n",
    "       print(\"ENTERED Updated checkCriminals\")\n",
    "    \n",
    "   \n",
    "       cursor.execute(\"SELECT property_url, Density, latitude, longitude, density_group FROM CAFINALTABLE\" )\n",
    "       \n",
    "       retrieved  = cursor.fetchall()\n",
    "       print(len(retrieved))\n",
    "\n",
    "       i = 0\n",
    "       for i,retrieve in enumerate(retrieved):\n",
    "              property_url = retrieve[0]\n",
    "              density = retrieve[1]\n",
    "              latitude = retrieve[2]\n",
    "              longitude = retrieve[3]\n",
    "              density_group = retrieve[4]\n",
    "                     \n",
    "              if (density != None):\n",
    "\n",
    "\n",
    "                     \n",
    "                     cursor.execute(\"SELECT numCriminal FROM CAFINALTABLE WHERE property_url = ? \", (property_url,)) \n",
    "                     result = cursor.fetchone() \n",
    "\n",
    "                     if (result[0] != None):\n",
    "                            print(\"this is the result: \" + str(result[0]))\n",
    "                            print(\"already exists in the table\")\n",
    "\n",
    "                     else:\n",
    "                       \n",
    "                            if (density_group == \"Low\"):\n",
    "                                   radius = \"5mi\"\n",
    "                            elif (density  == \"Medium-Low\"):\n",
    "                                   radius = \"3mi\"\n",
    "                            elif (density == \"Medium-High\"):\n",
    "                                   radius = \"2mi\"\n",
    "                            elif (density == \"High\"):\n",
    "                                   radius = \"1mi\"\n",
    "                                                               \n",
    "                                                               \n",
    "                            url= f'https://api.crimeometer.com/v3/sex-offenders/location?lat={latitude}&lon={longitude}&radius={radius}'\n",
    "                            headers = {\n",
    "                                                 'Content-Type': 'application/json',\n",
    "                                                 'x-api-key':  ''\n",
    "                            }\n",
    "                            print(\"getting response\")\n",
    "                            response = requests.get(url, headers=headers)\n",
    "                            print(response.status_code)\n",
    "                            if (response.status_code == 200):\n",
    "                                   data = response.json()\n",
    "                                   print(data)\n",
    "                                   total_criminals = data['sex_offenders_count']\n",
    "                                   print(\"Total criminals:\", total_criminals)\n",
    "                                   cursor.execute(\"UPDATE CAFINALTABLE  SET numCriminal = ? WHERE property_url = ?\", (total_criminals,property_url))\n",
    "                                   conn.commit()\n",
    "                                   cursor.execute(\"SELECT property_url, numCriminal FROM CAFINALTABLE WHERE property_url = ?\", (property_url,))\n",
    "                                   rows = cursor.fetchall()\n",
    "                                   print(rows)\n",
    "                            else:\n",
    "                                   print(\"COULD NOT RETRIEVE\")             \n",
    "                      \n",
    "            "
   ]
  },
  {
   "cell_type": "code",
   "execution_count": null,
   "metadata": {},
   "outputs": [],
   "source": [
    "checkCriminals()"
   ]
  },
  {
   "cell_type": "code",
   "execution_count": null,
   "metadata": {},
   "outputs": [],
   "source": [
    "cursor.execute(\"SELECT numCriminal FROM CAFINALTABLE\")\n",
    "criminals = cursor.fetchall()\n",
    "print(criminals)"
   ]
  },
  {
   "cell_type": "code",
   "execution_count": null,
   "metadata": {},
   "outputs": [],
   "source": [
    "cursor.execute(\"SELECT sql FROM sqlite_master WHERE type='table' AND name='CAFINALTABLE';\")\n",
    "create_table_sql = cursor.fetchone()[0]\n",
    "create_table_sql = create_table_sql.replace(original_table, new_table)"
   ]
  },
  {
   "cell_type": "code",
   "execution_count": 7,
   "metadata": {},
   "outputs": [],
   "source": [
    "conn = sqlite3.connect(\"HouseData.db\")\n",
    "cursor = conn.cursor()"
   ]
  },
  {
   "cell_type": "code",
   "execution_count": null,
   "metadata": {},
   "outputs": [],
   "source": [
    "\n",
    "\n",
    "cursor.execute(\"SELECT property_url, numCriminals,Density FROM StateHouseData WHERE state= 'CA' AND DENSITY > 750 AND DENSITY   AND numCriminals < 1000 LIMIT 500\")\n",
    "numberOfCriminals = cursor.fetchall()\n",
    "print(numberOfCriminals[0:500])\n"
   ]
  },
  {
   "cell_type": "code",
   "execution_count": null,
   "metadata": {},
   "outputs": [],
   "source": [
    "getCriminals2()"
   ]
  },
  {
   "cell_type": "code",
   "execution_count": null,
   "metadata": {},
   "outputs": [],
   "source": [
    "cursor.execute(\"PRAGMA table_info(stateHouseData)\")\n",
    "names = cursor.fetchall()\n",
    "print(names)\n",
    "\n",
    "cursor.execute(\"SELECT  Density FROM StateHouseData\" )\n",
    "rows = cursor.fetchall()\n",
    "print(rows[3])"
   ]
  },
  {
   "cell_type": "code",
   "execution_count": null,
   "metadata": {},
   "outputs": [],
   "source": [
    "getCriminals()"
   ]
  },
  {
   "cell_type": "code",
   "execution_count": null,
   "metadata": {},
   "outputs": [],
   "source": [
    "def neg_exp_decay(x,a,b,c):\n",
    "    return a * np.exp(-b * x) + c"
   ]
  },
  {
   "cell_type": "code",
   "execution_count": null,
   "metadata": {},
   "outputs": [],
   "source": [
    "check = cursor.execute(\"SELECT numCriminal FROM CA WHERE numCriminal != NULL\")\n",
    "print(len(check.fetchall()))\n",
    "conn.commit()\n",
    "conn.close()"
   ]
  },
  {
   "cell_type": "code",
   "execution_count": null,
   "metadata": {},
   "outputs": [],
   "source": [
    "df = pd.read_sql(\"SELECT * FROM CA\", conn)\n",
    "\n",
    "print(df.columns)\n",
    "df['price_group'] = pd.qcut(df['list_price'], 4, labels=['Low', 'Medium-Low', 'Medium-High', 'High'])\n",
    "df['density_group'] = pd.qcut(df['Density'], 4 , labels = ['Low', 'Medium-Low','Medium-High', 'High' ] )\n",
    "\n",
    "properties.to_sql(state, conn, if_exists='replace', index=False)\n"
   ]
  },
  {
   "cell_type": "code",
   "execution_count": 46,
   "metadata": {},
   "outputs": [
    {
     "data": {
      "text/plain": [
       "1500"
      ]
     },
     "execution_count": 46,
     "metadata": {},
     "output_type": "execute_result"
    }
   ],
   "source": [
    "df.to_sql(\"CAFINALTABLE\", conn, if_exists=\"replace\", index= False)\n",
    "\n",
    "\n",
    "\n"
   ]
  },
  {
   "cell_type": "code",
   "execution_count": 66,
   "metadata": {},
   "outputs": [],
   "source": [
    "df = pd.read_sql(\"SELECT * FROM CAFINALTABLE\", conn)\n",
    "\n",
    "#print(df.columns)\n",
    "#df['price_group'] = pd.qcut(df['list_price'], 4, labels=['Low', 'Medium-Low', 'Medium-High', 'High'])\n",
    "#df['density_group'] = pd.qcut(df['Density'], 4 , labels = ['Low', 'Medium-Low','Medium-High', 'High' ] )\n",
    "\n",
    "df.to_sql(\"CAFINALBACKUP\", conn, if_exists='replace', index=False)\n",
    "conn.commit()"
   ]
  },
  {
   "cell_type": "code",
   "execution_count": 55,
   "metadata": {},
   "outputs": [],
   "source": [
    "cursor.execute(f\"UPDATE CAFINALTABLE SET numCriminal = NULL\")\n",
    "conn.commit()"
   ]
  },
  {
   "cell_type": "code",
   "execution_count": null,
   "metadata": {},
   "outputs": [],
   "source": [
    "cursor.execute(\"SELECT * FROM CAFINALTABLE\")\n",
    "results = cursor.fetchall()\n",
    "print(results[0])"
   ]
  },
  {
   "cell_type": "code",
   "execution_count": null,
   "metadata": {},
   "outputs": [],
   "source": [
    "df = pd.read_sql(\"SELECT * FROM CAFINALTABLE\", conn)\n",
    "\n",
    "print(df.columns)\n",
    "df['price_group'] = pd.qcut(df['list_price'], 4, labels=['Low', 'Medium-Low', 'Medium-High', 'High'])\n",
    "grouped = df.groupby('price_group')['numCriminal'].mean().reset_index()\n",
    "\n",
    "print(df['density_group'])\n",
    "\n",
    "\n",
    "grouped.columns = ['Price Group', 'Average Number of Criminals']\n",
    "\n",
    "\n",
    "\n",
    "\n",
    "\n",
    "print(grouped)\n",
    "plt.figure(figsize=(10, 6))\n",
    "plt.bar(grouped['Price Group'], grouped['Average Number of Criminals'], color=['blue', 'orange', 'green', 'red'])\n",
    "plt.xlabel('House Price Group')\n",
    "plt.ylabel('Average Number of Criminals')\n",
    "plt.title('Average Number of Criminals by House Price Group')\n",
    "plt.show()\n",
    "\n",
    "\n"
   ]
  },
  {
   "cell_type": "code",
   "execution_count": 74,
   "metadata": {},
   "outputs": [
    {
     "name": "stdout",
     "output_type": "stream",
     "text": [
      "   Price Group  Average Number of Criminals\n",
      "0         High                  1103.649718\n",
      "1          Low                   241.355114\n",
      "2  Medium-High                   703.866667\n",
      "3   Medium-Low                   357.718499\n"
     ]
    },
    {
     "data": {
      "image/png": "[encoded data removed]",
      "text/plain": [
       "<Figure size 1000x600 with 1 Axes>"
      ]
     },
     "metadata": {},
     "output_type": "display_data"
    }
   ],
   "source": [
    "df['price_group'] = pd.qcut(df['list_price'], 4, labels=['Low', 'Medium-Low', 'Medium-High', 'High'])\n",
    "grouped = df.groupby('density_group')['numCriminal'].mean().reset_index()\n",
    "#print(df['density_group'])\n",
    "grouped.columns = ['Price Group', 'Average Number of Criminals']\n",
    "print(grouped)\n",
    "plt.figure(figsize=(10, 6))\n",
    "plt.bar(grouped['Price Group'], grouped['Average Number of Criminals'], color=['blue', 'orange', 'green', 'red'])\n",
    "plt.xlabel('House Density Group')\n",
    "plt.ylabel('Average Number of Criminals')\n",
    "plt.title('Average Number of Criminals by House Density Group')\n",
    "plt.show()"
   ]
  },
  {
   "cell_type": "code",
   "execution_count": 63,
   "metadata": {},
   "outputs": [],
   "source": [
    "conn.commit()"
   ]
  },
  {
   "cell_type": "markdown",
   "metadata": {},
   "source": [
    "What I can conclude from this data is that sex offenders can definitely be found more in urban areas. "
   ]
  },
  {
   "cell_type": "code",
   "execution_count": 50,
   "metadata": {},
   "outputs": [
    {
     "name": "stdout",
     "output_type": "stream",
     "text": [
      "[(0, 'property_url', 'TEXT', 0, None, 0), (1, 'mls', 'TEXT', 0, None, 0), (2, 'mls_id', 'TEXT', 0, None, 0), (3, 'status', 'TEXT', 0, None, 0), (4, 'text', 'TEXT', 0, None, 0), (5, 'style', 'TEXT', 0, None, 0), (6, 'full_street_line', 'TEXT', 0, None, 0), (7, 'street', 'TEXT', 0, None, 0), (8, 'unit', 'TEXT', 0, None, 0), (9, 'city', 'TEXT', 0, None, 0), (10, 'state', 'TEXT', 0, None, 0), (11, 'zip_code', 'TEXT', 0, None, 0), (12, 'beds', 'REAL', 0, None, 0), (13, 'full_baths', 'REAL', 0, None, 0), (14, 'half_baths', 'REAL', 0, None, 0), (15, 'sqft', 'REAL', 0, None, 0), (16, 'year_built', 'REAL', 0, None, 0), (17, 'days_on_mls', 'INTEGER', 0, None, 0), (18, 'list_price', 'INTEGER', 0, None, 0), (19, 'list_date', 'TEXT', 0, None, 0), (20, 'sold_price', 'REAL', 0, None, 0), (21, 'last_sold_date', 'TEXT', 0, None, 0), (22, 'assessed_value', 'REAL', 0, None, 0), (23, 'estimated_value', 'REAL', 0, None, 0), (24, 'lot_sqft', 'REAL', 0, None, 0), (25, 'price_per_sqft', 'REAL', 0, None, 0), (26, 'latitude', 'REAL', 0, None, 0), (27, 'longitude', 'REAL', 0, None, 0), (28, 'neighborhoods', 'TEXT', 0, None, 0), (29, 'county', 'TEXT', 0, None, 0), (30, 'fips_code', 'TEXT', 0, None, 0), (31, 'stories', 'REAL', 0, None, 0), (32, 'hoa_fee', 'REAL', 0, None, 0), (33, 'parking_garage', 'REAL', 0, None, 0), (34, 'agent', 'TEXT', 0, None, 0), (35, 'agent_email', 'TEXT', 0, None, 0), (36, 'broker', 'TEXT', 0, None, 0), (37, 'broker_phone', 'TEXT', 0, None, 0), (38, 'broker_website', 'TEXT', 0, None, 0), (39, 'nearby_schools', 'TEXT', 0, None, 0), (40, 'primary_photo', 'TEXT', 0, None, 0), (41, 'alt_photos', 'TEXT', 0, None, 0), (42, 'Density', 'REAL', 0, None, 0), (43, 'numCriminal', 'REAL', 0, None, 0), (44, 'price_group', 'TEXT', 0, None, 0), (45, 'density_group', 'TEXT', 0, None, 0)]\n"
     ]
    }
   ],
   "source": [
    "cursor.execute(\"PRAGMA table_info(CAFINALTABLE)\")\n",
    "results = cursor.fetchall()\n",
    "print(results)"
   ]
  },
  {
   "cell_type": "code",
   "execution_count": 9,
   "metadata": {},
   "outputs": [],
   "source": [
    "def predictSafety():\n",
    "\n",
    "\n",
    "\n",
    "    conn = sqlite3.connect(\"HouseData.db\")\n",
    "    cursor = conn.cursor()\n",
    "    # Fetching data\n",
    "    cursor.execute(\"PRAGMA table_info(CA)\")\n",
    "    names = cursor.fetchall()\n",
    "    print(names)\n",
    "    #cursor.execute(\"SELECT list_price, numCriminal FROM CA WHERE density > 1000 And numCriminal > 0\")\n",
    "    finalData = cursor.fetchall()\n",
    "    print(finalData[0])\n",
    "    print(\"this is the length of the final data: \" + str(len(finalData)))\n",
    "\n",
    "\n",
    "    \n",
    "  \n",
    "\n",
    "    x = []\n",
    "    y = []\n",
    "    for (price, numCriminals) in finalData:\n",
    "        x.append(price)\n",
    "        y.append(numCriminals)\n",
    "    \n",
    "\n",
    "    \n",
    "\n",
    "    log_prices = np.log(x)\n",
    "    log_criminals = np.log(y)\n",
    "        \n",
    "\n",
    "\n",
    "    mean_x = np.mean(log_prices)\n",
    "    median_x = np.median(log_prices)\n",
    "    std_x = np.std(log_prices)\n",
    "\n",
    "    mean_y = np.mean(log_criminals)\n",
    "    median_y = np.median(log_criminals)\n",
    "    std_y = np.std(log_criminals)\n",
    "\n",
    "    print(f\"Mean X: {mean_x}, Median X: {median_x}, Std X: {std_x}\")\n",
    "    print(f\"Mean Y: {mean_y}, Median Y: {median_y}, Std Y: {std_y}\")\n",
    "\n",
    "\n",
    "    data = {'x': log_prices, 'y': log_criminals}\n",
    "    correlation, p_value = pearsonr(log_prices, log_criminals)\n",
    "    print(\"this is the coreelation: \" + str(correlation))\n",
    "    print(\"this is the p value: \" + str(p_value))\n",
    "    df = pd.DataFrame(data)\n",
    "\n",
    "    plt.scatter(df['x'], df['y'], color='blue', label='Original Data')\n",
    "\n",
    "    correlation, p_value = pearsonr(log_x_values, log_y_values)\n",
    "\n",
    "\n",
    "    params, covariance = curve_fit(neg_exp_decay, df['x'], df['y'])\n",
    "    df['predicted'] = neg_exp_decay(df['x'], *params)\n",
    "    df['residuals'] = df['y'] - df['predicted']\n",
    "\n",
    "    # Calculate the z-score of the residuals\n",
    "    median_residuals = np.median(df['residuals'])\n",
    "    mad_residuals = np.median(np.abs(df['residuals'] - median_residuals))\n",
    "    df['residuals_mad'] = np.abs(df['residuals'] - median_residuals) / mad_residuals\n",
    "\n",
    "    # Define a threshold for identifying outliers using MAD\n",
    "    threshold = 3\n",
    "    df_no_outliers = df[df['residuals_mad'] <= threshold]\n",
    "\n",
    "\n",
    "    # Re-fit the model to the data without outliers\n",
    "    params_no_outliers, covariance_no_outliers = curve_fit(neg_exp_decay, df_no_outliers['x'], df_no_outliers['y'])\n",
    "    df_no_outliers['predicted'] = neg_exp_decay(df_no_outliers['x'], *params_no_outliers)\n",
    "\n",
    "    # Plot the data\n",
    "    plt.figure(figsize=(10, 6))\n",
    "\n",
    "    # Plot original data\n",
    "    plt.scatter(df['x'], df['y'], color='blue', label='Original Data')\n",
    "    # Plot fitted curve on original data\n",
    "    plt.plot(df['x'], df['predicted'], color='blue', linestyle='--', label='Fitted Curve (Original Data)')\n",
    "\n",
    "    # Plot data without outliers\n",
    "    plt.scatter(df_no_outliers['x'], df_no_outliers['y'], color='red', label='Data without Outliers')\n",
    "    # Plot fitted curve on data without outliers\n",
    "    plt.plot(df_no_outliers['x'], df_no_outliers['predicted'], color='red', label='Fitted Curve (No Outliers)')\n",
    "\n",
    "    plt.xlabel('X')\n",
    "    plt.ylabel('Y')\n",
    "    plt.title('Negative Exponential Decay Model with Outlier Removal')\n",
    "    plt.legend()\n",
    "    plt.show()\n",
    "\n",
    "    return df"
   ]
  },
  {
   "cell_type": "code",
   "execution_count": null,
   "metadata": {},
   "outputs": [],
   "source": [
    "df = predictSafety()"
   ]
  },
  {
   "cell_type": "code",
   "execution_count": 191,
   "metadata": {},
   "outputs": [
    {
     "name": "stdout",
     "output_type": "stream",
     "text": [
      "hello\n"
     ]
    }
   ],
   "source": [
    "print(\"hello\")"
   ]
  },
  {
   "cell_type": "code",
   "execution_count": null,
   "metadata": {},
   "outputs": [],
   "source": [
    "plt.scatter(df['x'], df['y'], color='blue', label='Original Data')"
   ]
  },
  {
   "cell_type": "code",
   "execution_count": null,
   "metadata": {},
   "outputs": [],
   "source": [
    "def normalizeData(hashy):\n",
    "    addresses = []\n",
    "    prices = []\n",
    "    numCriminals = []\n",
    "    for key in hashy.keys():\n",
    "        #print(\"THIS IS THE KEY:\" + str(key))\n",
    "\n",
    "        #if there is a dollar sign, then we have the price and the number of criminals nearby\n",
    "        #print(\"this is key[1]:\" + str(key[1])\n",
    "        \n",
    "            #if (\"$\" in key[1]):\n",
    "           #     price = key[1].replace('$', '')\n",
    "          #      price = price.replace(',', '')\n",
    "            \n",
    "        #    if (\"From\" in key[1]):\n",
    "         #       price = price.replace(\"From\", \"\")\n",
    "        \n",
    "        #print(\"this is the price:\" + str(price))\n",
    "        price = key[1].replace(\",\", \"\")\n",
    "        \n",
    "        prices.append(price)\n",
    "        addresses.append(key[0])\n",
    "        \n",
    "        if (hashy[key] == 0):\n",
    "            numCriminals.append(0)\n",
    "        else:\n",
    "            numCriminals.append(hashy[key])\n",
    "\n",
    "    print(\"length of addresses:\" + str(len(addresses)))\n",
    "    print(\"length of prices:\" + str(len(prices)))\n",
    "        \n",
    "\n",
    "\n",
    "    \n",
    "  \n",
    "    \n",
    "\n",
    "    numCriminals = np.array(numCriminals).reshape(-1, 1)\n",
    "    numCriminals.remove(maxIndex)\n",
    "    scaler_price = MinMaxScaler(feature_range=(0, 4))\n",
    "    scaler_criminals =MinMaxScaler(feature_range=(0, 2))\n",
    "    scaled_prices = scaler_price.fit_transform(prices)\n",
    "    scaled_numCriminals = scaler_criminals.fit_transform(numCriminals)\n",
    "\n",
    "    # Creating the DataFrame\n",
    "    df = pd.DataFrame({\n",
    "        'Price': scaled_prices.flatten(),  # Flatten to convert from 2D back to 1D\n",
    "        'numCriminals': scaled_numCriminals.flatten()\n",
    "    })\n",
    "\n",
    "    # Calculate the safety rating\n",
    "    df[\"safetyRating\"] = df['numCriminals'] + df['Price'] / 2\n",
    "\n",
    "\n",
    "    \n",
    "    plt.scatter(df[\"Price\"], df[\"numCriminals\"])\n",
    "\n",
    "    plt.show()\n",
    "    \n",
    "    \n",
    "    return df"
   ]
  },
  {
   "cell_type": "code",
   "execution_count": null,
   "metadata": {},
   "outputs": [],
   "source": [
    "cursor.execute('''\n",
    "CREATE TABLE StateHouseData2 AS\n",
    "SELECT *\n",
    "FROM StateHouseData\n",
    "WHERE 1=0;\n",
    "''')\n",
    "\n",
    "cursor.execute('''\n",
    "INSERT INTO StateHouseData2\n",
    "SELECT *\n",
    "FROM StateHouseData;\n",
    "''')"
   ]
  }
 ],
 "metadata": {
  "kernelspec": {
   "display_name": ".venv",
   "language": "python",
   "name": "python3"
  },
  "language_info": {
   "codemirror_mode": {
    "name": "ipython",
    "version": 3
   },
   "file_extension": ".py",
   "mimetype": "text/x-python",
   "name": "python",
   "nbconvert_exporter": "python",
   "pygments_lexer": "ipython3",
   "version": "3.10.4"
  }
 },
 "nbformat": 4,
 "nbformat_minor": 2
}
